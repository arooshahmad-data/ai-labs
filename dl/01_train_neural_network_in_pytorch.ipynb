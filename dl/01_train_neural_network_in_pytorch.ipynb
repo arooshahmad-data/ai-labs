{
  "nbformat": 4,
  "nbformat_minor": 0,
  "metadata": {
    "colab": {
      "provenance": [],
      "collapsed_sections": [
        "y2bnl07Fpdrv",
        "oNgZUdtFqhBf",
        "b2bfYK_YrCQj",
        "37pfVPPctcmU",
        "SokD6ud73gtO"
      ]
    },
    "kernelspec": {
      "name": "python3",
      "display_name": "Python 3"
    },
    "language_info": {
      "name": "python"
    }
  },
  "cells": [
    {
      "cell_type": "markdown",
      "source": [
        "This notebook provides a step by step guide for training a neural network in pytorch.\n",
        "\n",
        "The steps usually include\n",
        "\n",
        "- load data\n",
        "- pre-process and transform data\n",
        "- create a train, validation and test set\n",
        "- create a model\n",
        "- define learning rate, optimizer, loss function\n",
        "- define a training and validation loop\n",
        "- evaluate on test set"
      ],
      "metadata": {
        "id": "xt5iYNJDa0Kw"
      }
    },
    {
      "cell_type": "code",
      "source": [
        "import torch\n",
        "import torch.nn as nn\n",
        "import torch.nn.functional as F\n",
        "import torch.optim as optim\n",
        "\n",
        "import torchvision\n",
        "import torchvision.transforms as T\n",
        "\n",
        "import numpy as np\n",
        "import matplotlib.pyplot as plt"
      ],
      "metadata": {
        "id": "Q034KwVCptOW"
      },
      "execution_count": 81,
      "outputs": []
    },
    {
      "cell_type": "markdown",
      "source": [
        "## Loading Data\n",
        "\n",
        "For this notebook I will be using the FashionMNIST dataset, downloding using `torchvision.datasets`."
      ],
      "metadata": {
        "id": "y2bnl07Fpdrv"
      }
    },
    {
      "cell_type": "code",
      "source": [
        "transform = T.Compose([\n",
        "    T.ToTensor(),\n",
        "    T.Normalize((0.5), (0.5))\n",
        "])\n"
      ],
      "metadata": {
        "id": "orPm-zyoqAG3"
      },
      "execution_count": 18,
      "outputs": []
    },
    {
      "cell_type": "code",
      "execution_count": 19,
      "metadata": {
        "id": "Zmp3OtO5aObv"
      },
      "outputs": [],
      "source": [
        "# Download data\n",
        "\n",
        "train_data = torchvision.datasets.FashionMNIST(\n",
        "    train=True,\n",
        "    root='.',\n",
        "    download=True,\n",
        "    transform=transform\n",
        ")\n",
        "\n",
        "test_data = torchvision.datasets.FashionMNIST(\n",
        "    train=False,\n",
        "    root='.',\n",
        "    download=True,\n",
        "    transform=transform\n",
        ")"
      ]
    },
    {
      "cell_type": "code",
      "source": [
        "# Split trian data to train and validation set\n",
        "train_set, val_set = torch.utils.data.random_split(train_data, [50000, 10000])"
      ],
      "metadata": {
        "id": "JvZQIER9qJJi"
      },
      "execution_count": 20,
      "outputs": []
    },
    {
      "cell_type": "markdown",
      "source": [
        "### Define Data Loader\n",
        "\n",
        "The `DataLoader` class in the PyTorch `utils` package helps create data iterators in batches.\n",
        "\n",
        "DataLoader can load data from\n",
        "- Dataset Classes\n",
        "- Tensors or Arrays of data\n",
        "- Directory of data (image directory, etc ...)\n",
        "- hd5 files\n",
        "- Pandas DataFrames or Numpy Arrays/Files (.npy)\n",
        "\n",
        "and more ..."
      ],
      "metadata": {
        "id": "oNgZUdtFqhBf"
      }
    },
    {
      "cell_type": "code",
      "source": [
        "batch_size= 32\n",
        "\n",
        "train_loader = torch.utils.data.DataLoader(\n",
        "    train_set,\n",
        "    batch_size= batch_size,\n",
        "    shuffle=True\n",
        ")\n",
        "\n",
        "val_loader = torch.utils.data.DataLoader(\n",
        "    val_set,\n",
        "    batch_size= batch_size,\n",
        "    shuffle=True\n",
        ")\n",
        "\n",
        "test_loader = torch.utils.data.DataLoader(\n",
        "    test_data,\n",
        "    batch_size= batch_size,\n",
        "    shuffle=True\n",
        ")"
      ],
      "metadata": {
        "id": "tCHBPNRHqgV-"
      },
      "execution_count": 21,
      "outputs": []
    },
    {
      "cell_type": "markdown",
      "source": [
        "## Define a Model\n",
        "\n",
        "There are two available ways to define a model in pytorch\n",
        "\n",
        "- Functional API - defined using a custom class inheriting `nn.Module`\n",
        "- Sequential API - defined using `nn.Sequention()` class object"
      ],
      "metadata": {
        "id": "b2bfYK_YrCQj"
      }
    },
    {
      "cell_type": "markdown",
      "source": [
        "#### Functional API\n",
        "\n",
        "Defined using a custom class inheriting `nn.Module`.\n",
        "\n",
        "as it inherits from nn.Module we need to define a `forward()` method to do forward pass."
      ],
      "metadata": {
        "id": "ssJO44zUstb0"
      }
    },
    {
      "cell_type": "code",
      "source": [
        "# Functional API Model\n",
        "\n",
        "class Net(nn.Module):\n",
        "    def __init__(self):\n",
        "        super().__init__()\n",
        "        self.input_layer = nn.Linear(784, 256)  # image is 28 * 28\n",
        "        self.activation = nn.ReLU()\n",
        "        self.hidden_layer_1 = nn.Linear(256, 128)\n",
        "        self.hidden_layer_2 = nn.Linear(128, 64)\n",
        "        self.output_layer = nn.Linear(64, 10)\n",
        "\n",
        "    def forward(self, x):  # ✅ x added here\n",
        "        x = self.input_layer(x)\n",
        "        x = self.activation(x)\n",
        "        x = self.hidden_layer_1(x)\n",
        "        x = self.activation(x)\n",
        "        x = self.hidden_layer_2(x)\n",
        "        x = self.activation(x)\n",
        "        x = self.output_layer(x)\n",
        "        return x\n",
        "\n"
      ],
      "metadata": {
        "id": "2l0bpbM4qcUw"
      },
      "execution_count": 55,
      "outputs": []
    },
    {
      "cell_type": "markdown",
      "source": [
        "#### Sequential API\n",
        "\n",
        "Defined using `nn.Sequention()` class object.\n",
        "\n",
        "This takes specified layers in a sequence, as `nn.Linear`, `nn.ReLU`, `nn.Conv2d` etc."
      ],
      "metadata": {
        "id": "0XjuY9fcs64u"
      }
    },
    {
      "cell_type": "code",
      "source": [
        "seq_model = nn.Sequential(\n",
        "    nn.Linear(784, 256),\n",
        "    nn.ReLU(),\n",
        "    nn.Linear(256, 128),\n",
        "    nn.ReLU(),\n",
        "    nn.Linear(128, 64),\n",
        "    nn.ReLU(),\n",
        "    nn.Linear(64, 10)\n",
        ")"
      ],
      "metadata": {
        "id": "lUVpKR68s6bj"
      },
      "execution_count": 23,
      "outputs": []
    },
    {
      "cell_type": "markdown",
      "source": [
        "## Configurations"
      ],
      "metadata": {
        "id": "7rfkZfBz2-N-"
      }
    },
    {
      "cell_type": "code",
      "source": [
        "## model to device\n",
        "\n",
        "device = torch.device('cuda' if torch.cuda.is_available() else 'cpu')\n",
        "func_model = Net().to(device)\n",
        "seq_model = seq_model.to(device)"
      ],
      "metadata": {
        "id": "xwoL-ouLtYjf"
      },
      "execution_count": 60,
      "outputs": []
    },
    {
      "cell_type": "code",
      "source": [
        "MODEL = \"F\" # decide which model to use\n",
        "\n",
        "model = func_model if MODEL == \"F\" else seq_model # use functional or sequential model"
      ],
      "metadata": {
        "id": "q7SrdRF3vPRD"
      },
      "execution_count": 61,
      "outputs": []
    },
    {
      "cell_type": "markdown",
      "source": [
        "Define `optimizer`, `loss` and `learning rate` for your model."
      ],
      "metadata": {
        "id": "AzEU_Hgq3Io8"
      }
    },
    {
      "cell_type": "code",
      "source": [
        "lr = 0.0001\n",
        "optim = torch.optim.Adam(model.parameters(), lr=lr)\n",
        "loss_fn = nn.CrossEntropyLoss()"
      ],
      "metadata": {
        "id": "PzoPlDpcuLNq"
      },
      "execution_count": 66,
      "outputs": []
    },
    {
      "cell_type": "markdown",
      "source": [
        "## define a training loop"
      ],
      "metadata": {
        "id": "37pfVPPctcmU"
      }
    },
    {
      "cell_type": "markdown",
      "source": [
        "### define train and val epoch function"
      ],
      "metadata": {
        "id": "_W3LomBg3pPs"
      }
    },
    {
      "cell_type": "code",
      "source": [
        "def train_epoch():\n",
        "  model.train() # set model to training\n",
        "\n",
        "  correct = 0\n",
        "  running_loss = 0\n",
        "  total = 0\n",
        "\n",
        "  for imgs, labels in train_loader:\n",
        "    imgs = imgs.reshape(-1,784).to(device) # shape (batch_size,786)\n",
        "    labels = labels.reshape(-1,).to(device) # shape(batch_size)\n",
        "\n",
        "    preds = model(imgs)\n",
        "    loss = loss_fn(preds, labels)\n",
        "\n",
        "    optim.zero_grad()\n",
        "    loss.backward()\n",
        "    optim.step()\n",
        "\n",
        "    running_loss += loss.detach()\n",
        "\n",
        "    # Calculate Accuracy\n",
        "    preds = torch.tensor([torch.argmax(pred) for pred in preds]).float() # get the prediction each is of shape ((1, 10) for now)\n",
        "    correct += (preds == labels).sum().item()\n",
        "    total += len(labels)\n",
        "\n",
        "  running_loss = running_loss / len(train_loader)\n",
        "  accuracy = correct / total\n",
        "\n",
        "  return running_loss, accuracy"
      ],
      "metadata": {
        "id": "koa3JKgutrkC"
      },
      "execution_count": 77,
      "outputs": []
    },
    {
      "cell_type": "code",
      "source": [
        "def val_epoch():\n",
        "  model.eval() # set model to evaluation\n",
        "  correct = 0\n",
        "  running_loss = 0\n",
        "  total = 0\n",
        "\n",
        "  with torch.no_grad():\n",
        "    for imgs, labels in val_loader:\n",
        "      imgs = imgs.reshape(-1, 784).to(device) # shape (batch_size,786)\n",
        "      labels = labels.reshape(-1, ).to(device) # shape(batch_size)\n",
        "\n",
        "      preds = model(imgs)\n",
        "      loss = loss_fn(preds, labels)\n",
        "\n",
        "      running_loss += loss.detach()\n",
        "\n",
        "      # Calculate Accuracy\n",
        "      preds = torch.tensor([torch.argmax(pred) for pred in preds]) # get the prediction each is of shape ((1, 10) for now)\n",
        "      correct += (preds == labels).sum().item()\n",
        "      total += len(labels)\n",
        "      accuracy = correct / total\n",
        "\n",
        "  running_loss = running_loss / len(train_loader)\n",
        "  accuracy = correct / total\n",
        "\n",
        "  return running_loss, accuracy\n"
      ],
      "metadata": {
        "id": "B79Dt_sZu_AY"
      },
      "execution_count": 78,
      "outputs": []
    },
    {
      "cell_type": "markdown",
      "source": [
        "### train"
      ],
      "metadata": {
        "id": "PKLQZwqy3mQy"
      }
    },
    {
      "cell_type": "code",
      "source": [
        "epochs = 10\n",
        "\n",
        "# list to keep track per epoch for plotting\n",
        "train_losses, train_acuracies = [], []\n",
        "val_losses, val_acuracies = [], []\n",
        "\n",
        "for i in range(1, 10):\n",
        "  train_loss, train_acc = train_epoch()\n",
        "  val_loss, val_acc = val_epoch()\n",
        "\n",
        "  # append results\n",
        "  train_losses.append(train_loss)\n",
        "  train_acuracies.append(train_acc)\n",
        "  val_losses.append(val_loss)\n",
        "  val_acuracies.append(val_acc)\n",
        "\n",
        "\n",
        "  print(f\"Epoch {i}:\")\n",
        "  print(f\"Train Loss: {train_loss} Train Acc: {train_acc}\")\n",
        "  print(f\"Val Loss: {val_loss} Val Acc: {val_acc} \\n\")\n"
      ],
      "metadata": {
        "colab": {
          "base_uri": "https://localhost:8080/"
        },
        "collapsed": true,
        "id": "TknauueFuEh_",
        "outputId": "0b0dceb9-9fac-4cc3-dab2-5c06603c876d"
      },
      "execution_count": 80,
      "outputs": [
        {
          "output_type": "stream",
          "name": "stdout",
          "text": [
            "Epoch 1:\n",
            "Train Loss: 0.2928917407989502 Train Acc: 0.89558\n",
            "Val Loss: 0.06771618872880936 Val Acc: 0.8803 \n",
            "\n",
            "Epoch 2:\n",
            "Train Loss: 0.2826750874519348 Train Acc: 0.89688\n",
            "Val Loss: 0.07001548260450363 Val Acc: 0.8769 \n",
            "\n",
            "Epoch 3:\n",
            "Train Loss: 0.27520066499710083 Train Acc: 0.89986\n",
            "Val Loss: 0.0654890388250351 Val Acc: 0.8834 \n",
            "\n",
            "Epoch 4:\n",
            "Train Loss: 0.2645720839500427 Train Acc: 0.90428\n",
            "Val Loss: 0.06785129010677338 Val Acc: 0.8759 \n",
            "\n",
            "Epoch 5:\n",
            "Train Loss: 0.25728845596313477 Train Acc: 0.90586\n",
            "Val Loss: 0.06546655297279358 Val Acc: 0.8858 \n",
            "\n",
            "Epoch 6:\n",
            "Train Loss: 0.24997323751449585 Train Acc: 0.90828\n",
            "Val Loss: 0.066066674888134 Val Acc: 0.8816 \n",
            "\n",
            "Epoch 7:\n",
            "Train Loss: 0.24276527762413025 Train Acc: 0.91124\n",
            "Val Loss: 0.0638963133096695 Val Acc: 0.888 \n",
            "\n",
            "Epoch 8:\n",
            "Train Loss: 0.23658522963523865 Train Acc: 0.91402\n",
            "Val Loss: 0.06502663344144821 Val Acc: 0.8852 \n",
            "\n",
            "Epoch 9:\n",
            "Train Loss: 0.2302255630493164 Train Acc: 0.9166\n",
            "Val Loss: 0.06525292992591858 Val Acc: 0.8824 \n",
            "\n"
          ]
        }
      ]
    },
    {
      "cell_type": "markdown",
      "source": [
        "## Plotting Loss and Accuracy"
      ],
      "metadata": {
        "id": "SokD6ud73gtO"
      }
    },
    {
      "cell_type": "code",
      "source": [
        "import matplotlib.pyplot as plt\n",
        "\n",
        "# Assuming you have lists: train_losses and val_losses\n",
        "epochs = range(1, len(train_losses) + 1)\n",
        "\n",
        "plt.plot(epochs, train_losses, label='Training Loss')\n",
        "plt.plot(epochs, val_losses, label='Validation Loss')\n",
        "plt.xlabel('Epoch')\n",
        "plt.ylabel('Loss')\n",
        "plt.title('Training and Validation Loss')\n",
        "plt.legend()\n",
        "plt.show()"
      ],
      "metadata": {
        "colab": {
          "base_uri": "https://localhost:8080/",
          "height": 472
        },
        "id": "YqEXD2_I1YlT",
        "outputId": "42f6338c-651c-463d-c791-b1098c019d72"
      },
      "execution_count": 85,
      "outputs": [
        {
          "output_type": "display_data",
          "data": {
            "text/plain": [
              "<Figure size 640x480 with 1 Axes>"
            ],
            "image/png": "[encoded data removed]"
          },
          "metadata": {}
        }
      ]
    },
    {
      "cell_type": "code",
      "source": [
        "import matplotlib.pyplot as plt\n",
        "\n",
        "# Assuming you have lists: train_losses and val_losses\n",
        "epochs = range(1, len(train_acuracies) + 1)\n",
        "\n",
        "plt.plot(epochs, train_acuracies, label='Training Accuracy')\n",
        "plt.plot(epochs, val_acuracies, label='Validation Accuracy')\n",
        "plt.xlabel('Epoch')\n",
        "plt.ylabel('Loss')\n",
        "plt.title('Training and Validation Accuracy')\n",
        "plt.legend()\n",
        "plt.show()"
      ],
      "metadata": {
        "colab": {
          "base_uri": "https://localhost:8080/",
          "height": 472
        },
        "id": "fJMu4Fl32ozh",
        "outputId": "6412c2ab-048a-42cc-bc45-a8e9dc6c5da4"
      },
      "execution_count": 86,
      "outputs": [
        {
          "output_type": "display_data",
          "data": {
            "text/plain": [
              "<Figure size 640x480 with 1 Axes>"
            ],
            "image/png": "[encoded data removed]"
          },
          "metadata": {}
        }
      ]
    },
    {
      "cell_type": "markdown",
      "source": [
        "## Testing Model"
      ],
      "metadata": {
        "id": "w9Jlns6v0Xmb"
      }
    },
    {
      "cell_type": "code",
      "source": [
        "# Define a test function\n",
        "\n",
        "def test_model():\n",
        "  model.eval()\n",
        "  correct = 0\n",
        "  running_loss = 0\n",
        "  total = 0\n",
        "\n",
        "  with torch.no_grad():\n",
        "    for imgs, labels in val_loader:\n",
        "      imgs = imgs.reshape(-1, 784).to(device) # shape (batch_size,786)\n",
        "      labels = labels.reshape(-1, ).to(device) # shape(batch_size)\n",
        "\n",
        "      preds = model(imgs)\n",
        "      loss = loss_fn(preds, labels)\n",
        "\n",
        "      running_loss += loss.detach()\n",
        "\n",
        "      # Calculate Accuracy\n",
        "      preds = torch.tensor([torch.argmax(pred) for pred in preds]) # get the prediction each is of shape ((1, 10) for now)\n",
        "      correct += (preds == labels).sum().item()\n",
        "      total += len(labels)\n",
        "      accuracy = correct / total\n",
        "\n",
        "  running_loss = running_loss / len(train_loader)\n",
        "  accuracy = correct / total\n",
        "\n",
        "  return running_loss, accuracy"
      ],
      "metadata": {
        "id": "FkS0NBQfv7-D"
      },
      "execution_count": 89,
      "outputs": []
    },
    {
      "cell_type": "code",
      "source": [
        "loss, acc = test_model()\n",
        "print(f\"Test Loss is: {loss}\")\n",
        "print(f\"Test Accuracy is: {acc}\")"
      ],
      "metadata": {
        "colab": {
          "base_uri": "https://localhost:8080/"
        },
        "id": "Dp_ni4BS3VIL",
        "outputId": "c0820c4b-22a4-4d94-b71b-9080a1450cc7"
      },
      "execution_count": 91,
      "outputs": [
        {
          "output_type": "stream",
          "name": "stdout",
          "text": [
            "Test Loss is: 0.06528423726558685\n",
            "Test Accuracy is: 0.8824\n"
          ]
        }
      ]
    }
  ]
}